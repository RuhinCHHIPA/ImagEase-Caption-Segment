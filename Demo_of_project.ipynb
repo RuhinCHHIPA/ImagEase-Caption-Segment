{
 "cells": [
  {
   "cell_type": "code",
   "execution_count": 2,
   "id": "68fc4ebc-6b21-421a-b802-4d8f7452f3fa",
   "metadata": {},
   "outputs": [
    {
     "name": "stdout",
     "output_type": "stream",
     "text": [
      "Requirement already satisfied: streamlit in c:\\users\\ruhin chhipa\\anaconda3\\lib\\site-packages (1.45.1)\n",
      "Requirement already satisfied: transformers in c:\\users\\ruhin chhipa\\anaconda3\\lib\\site-packages (4.53.3)\n",
      "Requirement already satisfied: torch in c:\\users\\ruhin chhipa\\anaconda3\\lib\\site-packages (2.7.1)\n",
      "Requirement already satisfied: torchvision in c:\\users\\ruhin chhipa\\anaconda3\\lib\\site-packages (0.22.1)\n",
      "Requirement already satisfied: matplotlib in c:\\users\\ruhin chhipa\\anaconda3\\lib\\site-packages (3.10.0)\n",
      "Requirement already satisfied: pillow in c:\\users\\ruhin chhipa\\anaconda3\\lib\\site-packages (11.1.0)\n",
      "Requirement already satisfied: altair<6,>=4.0 in c:\\users\\ruhin chhipa\\anaconda3\\lib\\site-packages (from streamlit) (5.5.0)\n",
      "Requirement already satisfied: blinker<2,>=1.5.0 in c:\\users\\ruhin chhipa\\anaconda3\\lib\\site-packages (from streamlit) (1.9.0)\n",
      "Requirement already satisfied: cachetools<6,>=4.0 in c:\\users\\ruhin chhipa\\anaconda3\\lib\\site-packages (from streamlit) (5.5.1)\n",
      "Requirement already satisfied: click<9,>=7.0 in c:\\users\\ruhin chhipa\\anaconda3\\lib\\site-packages (from streamlit) (8.1.8)\n",
      "Requirement already satisfied: numpy<3,>=1.23 in c:\\users\\ruhin chhipa\\anaconda3\\lib\\site-packages (from streamlit) (2.1.3)\n",
      "Requirement already satisfied: packaging<25,>=20 in c:\\users\\ruhin chhipa\\anaconda3\\lib\\site-packages (from streamlit) (24.2)\n",
      "Requirement already satisfied: pandas<3,>=1.4.0 in c:\\users\\ruhin chhipa\\anaconda3\\lib\\site-packages (from streamlit) (2.2.3)\n",
      "Requirement already satisfied: protobuf<7,>=3.20 in c:\\users\\ruhin chhipa\\anaconda3\\lib\\site-packages (from streamlit) (5.29.3)\n",
      "Requirement already satisfied: pyarrow>=7.0 in c:\\users\\ruhin chhipa\\anaconda3\\lib\\site-packages (from streamlit) (19.0.0)\n",
      "Requirement already satisfied: requests<3,>=2.27 in c:\\users\\ruhin chhipa\\anaconda3\\lib\\site-packages (from streamlit) (2.32.3)\n",
      "Requirement already satisfied: tenacity<10,>=8.1.0 in c:\\users\\ruhin chhipa\\anaconda3\\lib\\site-packages (from streamlit) (9.0.0)\n",
      "Requirement already satisfied: toml<2,>=0.10.1 in c:\\users\\ruhin chhipa\\anaconda3\\lib\\site-packages (from streamlit) (0.10.2)\n",
      "Requirement already satisfied: typing-extensions<5,>=4.4.0 in c:\\users\\ruhin chhipa\\anaconda3\\lib\\site-packages (from streamlit) (4.12.2)\n",
      "Requirement already satisfied: watchdog<7,>=2.1.5 in c:\\users\\ruhin chhipa\\anaconda3\\lib\\site-packages (from streamlit) (4.0.2)\n",
      "Requirement already satisfied: gitpython!=3.1.19,<4,>=3.0.7 in c:\\users\\ruhin chhipa\\anaconda3\\lib\\site-packages (from streamlit) (3.1.43)\n",
      "Requirement already satisfied: tornado<7,>=6.0.3 in c:\\users\\ruhin chhipa\\anaconda3\\lib\\site-packages (from streamlit) (6.5.1)\n",
      "Requirement already satisfied: jinja2 in c:\\users\\ruhin chhipa\\anaconda3\\lib\\site-packages (from altair<6,>=4.0->streamlit) (3.1.6)\n",
      "Requirement already satisfied: jsonschema>=3.0 in c:\\users\\ruhin chhipa\\anaconda3\\lib\\site-packages (from altair<6,>=4.0->streamlit) (4.23.0)\n",
      "Requirement already satisfied: narwhals>=1.14.2 in c:\\users\\ruhin chhipa\\anaconda3\\lib\\site-packages (from altair<6,>=4.0->streamlit) (1.31.0)\n",
      "Requirement already satisfied: colorama in c:\\users\\ruhin chhipa\\anaconda3\\lib\\site-packages (from click<9,>=7.0->streamlit) (0.4.6)\n",
      "Requirement already satisfied: gitdb<5,>=4.0.1 in c:\\users\\ruhin chhipa\\anaconda3\\lib\\site-packages (from gitpython!=3.1.19,<4,>=3.0.7->streamlit) (4.0.7)\n",
      "Requirement already satisfied: smmap<5,>=3.0.1 in c:\\users\\ruhin chhipa\\anaconda3\\lib\\site-packages (from gitdb<5,>=4.0.1->gitpython!=3.1.19,<4,>=3.0.7->streamlit) (4.0.0)\n",
      "Requirement already satisfied: python-dateutil>=2.8.2 in c:\\users\\ruhin chhipa\\anaconda3\\lib\\site-packages (from pandas<3,>=1.4.0->streamlit) (2.9.0.post0)\n",
      "Requirement already satisfied: pytz>=2020.1 in c:\\users\\ruhin chhipa\\anaconda3\\lib\\site-packages (from pandas<3,>=1.4.0->streamlit) (2024.1)\n",
      "Requirement already satisfied: tzdata>=2022.7 in c:\\users\\ruhin chhipa\\anaconda3\\lib\\site-packages (from pandas<3,>=1.4.0->streamlit) (2025.2)\n",
      "Requirement already satisfied: charset-normalizer<4,>=2 in c:\\users\\ruhin chhipa\\anaconda3\\lib\\site-packages (from requests<3,>=2.27->streamlit) (3.3.2)\n",
      "Requirement already satisfied: idna<4,>=2.5 in c:\\users\\ruhin chhipa\\anaconda3\\lib\\site-packages (from requests<3,>=2.27->streamlit) (3.7)\n",
      "Requirement already satisfied: urllib3<3,>=1.21.1 in c:\\users\\ruhin chhipa\\anaconda3\\lib\\site-packages (from requests<3,>=2.27->streamlit) (2.3.0)\n",
      "Requirement already satisfied: certifi>=2017.4.17 in c:\\users\\ruhin chhipa\\anaconda3\\lib\\site-packages (from requests<3,>=2.27->streamlit) (2025.4.26)\n",
      "Requirement already satisfied: filelock in c:\\users\\ruhin chhipa\\anaconda3\\lib\\site-packages (from transformers) (3.17.0)\n",
      "Requirement already satisfied: huggingface-hub<1.0,>=0.30.0 in c:\\users\\ruhin chhipa\\anaconda3\\lib\\site-packages (from transformers) (0.34.0)\n",
      "Requirement already satisfied: pyyaml>=5.1 in c:\\users\\ruhin chhipa\\anaconda3\\lib\\site-packages (from transformers) (6.0.2)\n",
      "Requirement already satisfied: regex!=2019.12.17 in c:\\users\\ruhin chhipa\\anaconda3\\lib\\site-packages (from transformers) (2024.11.6)\n",
      "Requirement already satisfied: tokenizers<0.22,>=0.21 in c:\\users\\ruhin chhipa\\anaconda3\\lib\\site-packages (from transformers) (0.21.2)\n",
      "Requirement already satisfied: safetensors>=0.4.3 in c:\\users\\ruhin chhipa\\anaconda3\\lib\\site-packages (from transformers) (0.5.3)\n",
      "Requirement already satisfied: tqdm>=4.27 in c:\\users\\ruhin chhipa\\anaconda3\\lib\\site-packages (from transformers) (4.67.1)\n",
      "Requirement already satisfied: fsspec>=2023.5.0 in c:\\users\\ruhin chhipa\\anaconda3\\lib\\site-packages (from huggingface-hub<1.0,>=0.30.0->transformers) (2025.3.2)\n",
      "Requirement already satisfied: sympy>=1.13.3 in c:\\users\\ruhin chhipa\\anaconda3\\lib\\site-packages (from torch) (1.13.3)\n",
      "Requirement already satisfied: networkx in c:\\users\\ruhin chhipa\\anaconda3\\lib\\site-packages (from torch) (3.4.2)\n",
      "Requirement already satisfied: setuptools in c:\\users\\ruhin chhipa\\anaconda3\\lib\\site-packages (from torch) (72.1.0)\n",
      "Requirement already satisfied: contourpy>=1.0.1 in c:\\users\\ruhin chhipa\\anaconda3\\lib\\site-packages (from matplotlib) (1.3.1)\n",
      "Requirement already satisfied: cycler>=0.10 in c:\\users\\ruhin chhipa\\anaconda3\\lib\\site-packages (from matplotlib) (0.11.0)\n",
      "Requirement already satisfied: fonttools>=4.22.0 in c:\\users\\ruhin chhipa\\anaconda3\\lib\\site-packages (from matplotlib) (4.55.3)\n",
      "Requirement already satisfied: kiwisolver>=1.3.1 in c:\\users\\ruhin chhipa\\anaconda3\\lib\\site-packages (from matplotlib) (1.4.8)\n",
      "Requirement already satisfied: pyparsing>=2.3.1 in c:\\users\\ruhin chhipa\\anaconda3\\lib\\site-packages (from matplotlib) (3.2.0)\n",
      "Requirement already satisfied: attrs>=22.2.0 in c:\\users\\ruhin chhipa\\anaconda3\\lib\\site-packages (from jsonschema>=3.0->altair<6,>=4.0->streamlit) (24.3.0)\n",
      "Requirement already satisfied: jsonschema-specifications>=2023.03.6 in c:\\users\\ruhin chhipa\\anaconda3\\lib\\site-packages (from jsonschema>=3.0->altair<6,>=4.0->streamlit) (2023.7.1)\n",
      "Requirement already satisfied: referencing>=0.28.4 in c:\\users\\ruhin chhipa\\anaconda3\\lib\\site-packages (from jsonschema>=3.0->altair<6,>=4.0->streamlit) (0.30.2)\n",
      "Requirement already satisfied: rpds-py>=0.7.1 in c:\\users\\ruhin chhipa\\anaconda3\\lib\\site-packages (from jsonschema>=3.0->altair<6,>=4.0->streamlit) (0.22.3)\n",
      "Requirement already satisfied: six>=1.5 in c:\\users\\ruhin chhipa\\anaconda3\\lib\\site-packages (from python-dateutil>=2.8.2->pandas<3,>=1.4.0->streamlit) (1.17.0)\n",
      "Requirement already satisfied: mpmath<1.4,>=1.1.0 in c:\\users\\ruhin chhipa\\anaconda3\\lib\\site-packages (from sympy>=1.13.3->torch) (1.3.0)\n",
      "Requirement already satisfied: MarkupSafe>=2.0 in c:\\users\\ruhin chhipa\\anaconda3\\lib\\site-packages (from jinja2->altair<6,>=4.0->streamlit) (3.0.2)\n"
     ]
    }
   ],
   "source": [
    "!pip install streamlit transformers torch torchvision matplotlib pillow\n",
    "\n",
    "\n",
    "\n"
   ]
  },
  {
   "cell_type": "code",
   "execution_count": 3,
   "id": "598654a2-c628-46b8-91b6-3c30872d7013",
   "metadata": {},
   "outputs": [
    {
     "data": {
      "application/vnd.jupyter.widget-view+json": {
       "model_id": "b9372cbab01044f98393dc0f7af8b524",
       "version_major": 2,
       "version_minor": 0
      },
      "text/plain": [
       "HBox(children=(Button(button_style='info', description='◀️ Previous', style=ButtonStyle()), Button(button_styl…"
      ]
     },
     "metadata": {},
     "output_type": "display_data"
    },
    {
     "data": {
      "application/vnd.jupyter.widget-view+json": {
       "model_id": "f79a3e9d68654724b629d2c7d1bf860a",
       "version_major": 2,
       "version_minor": 0
      },
      "text/plain": [
       "Dropdown(description='Folder:', options=('daily_life', 'nature', 'object'), value='daily_life')"
      ]
     },
     "metadata": {},
     "output_type": "display_data"
    },
    {
     "data": {
      "application/vnd.jupyter.widget-view+json": {
       "model_id": "71a3bf617c1c4823981631f44111feec",
       "version_major": 2,
       "version_minor": 0
      },
      "text/plain": [
       "Output()"
      ]
     },
     "metadata": {},
     "output_type": "display_data"
    }
   ],
   "source": [
    "import os\n",
    "import random\n",
    "from PIL import Image\n",
    "import matplotlib.pyplot as plt\n",
    "import torch\n",
    "from transformers import BlipProcessor, BlipForConditionalGeneration\n",
    "from IPython.display import display, clear_output\n",
    "import ipywidgets as widgets\n",
    "\n",
    "# Load BLIP model and processor\n",
    "processor = BlipProcessor.from_pretrained(\"Salesforce/blip-image-captioning-large\")\n",
    "model = BlipForConditionalGeneration.from_pretrained(\"Salesforce/blip-image-captioning-large\").to(\"cuda\" if torch.cuda.is_available() else \"cpu\")\n",
    "\n",
    "# Set your image folder path here\n",
    "base_folder = \"C:\\\\Users\\\\RUHIN CHHIPA\\\\OneDrive\\\\Desktop\\\\main_imgFolder\"  # inside this, you can have folders like nature/, objects/, etc.\n",
    "\n",
    "# List all subfolders\n",
    "all_folders = [f for f in os.listdir(base_folder) if os.path.isdir(os.path.join(base_folder, f))]\n",
    "selected_folder = widgets.Dropdown(options=all_folders, description='Folder:')\n",
    "\n",
    "# Placeholder for image paths\n",
    "all_images_path = []\n",
    "index = 0\n",
    "out = widgets.Output()\n",
    "\n",
    "# Generate caption using BLIP\n",
    "def generate_caption(image_path):\n",
    "    raw_image = Image.open(image_path).convert('RGB')\n",
    "    inputs = processor(raw_image, return_tensors=\"pt\").to(model.device)\n",
    "    out = model.generate(**inputs, max_new_tokens=30, do_sample=True, top_p=0.9)\n",
    "    return processor.decode(out[0], skip_special_tokens=True)\n",
    "\n",
    "# Show image with caption\n",
    "def show_image_with_caption():\n",
    "    with out:\n",
    "        clear_output(wait=True)\n",
    "        if all_images_path:\n",
    "            image_path = all_images_path[index]\n",
    "            img = Image.open(image_path)\n",
    "            plt.imshow(img)\n",
    "            plt.axis('off')\n",
    "            plt.title(f\"Caption: {generate_caption(image_path)}\")\n",
    "            plt.show()\n",
    "\n",
    "# Update image list on folder change\n",
    "def on_folder_change(change):\n",
    "    global all_images_path, index\n",
    "    folder = change['new']\n",
    "    folder_path = os.path.join(base_folder, folder)\n",
    "    all_images_path = [os.path.join(folder_path, f) for f in os.listdir(folder_path)\n",
    "                       if f.lower().endswith(('.jpg', '.jpeg', '.png'))]\n",
    "    index = 0\n",
    "    show_image_with_caption()\n",
    "\n",
    "# Navigation buttons\n",
    "def on_next_clicked(b):\n",
    "    global index\n",
    "    if index < len(all_images_path) - 1:\n",
    "        index += 1\n",
    "        show_image_with_caption()\n",
    "\n",
    "def on_prev_clicked(b):\n",
    "    global index\n",
    "    if index > 0:\n",
    "        index -= 1\n",
    "        show_image_with_caption()\n",
    "\n",
    "# Button setup\n",
    "next_button = widgets.Button(description='Next ▶️', button_style='success')\n",
    "prev_button = widgets.Button(description='◀️ Previous', button_style='info')\n",
    "next_button.on_click(on_next_clicked)\n",
    "prev_button.on_click(on_prev_clicked)\n",
    "\n",
    "selected_folder.observe(on_folder_change, names='value')\n",
    "\n",
    "# Display interface\n",
    "display(widgets.HBox([prev_button, next_button]))\n",
    "display(selected_folder)\n",
    "display(out)\n",
    "\n",
    "# Initial call to load folder\n",
    "on_folder_change({'new': selected_folder.value})\n"
   ]
  },
  {
   "cell_type": "code",
   "execution_count": null,
   "id": "e4e27b94-768f-4088-a226-c6d0bf01f43f",
   "metadata": {},
   "outputs": [],
   "source": []
  }
 ],
 "metadata": {
  "kernelspec": {
   "display_name": "Python 3 (ipykernel)",
   "language": "python",
   "name": "python3"
  },
  "language_info": {
   "codemirror_mode": {
    "name": "ipython",
    "version": 3
   },
   "file_extension": ".py",
   "mimetype": "text/x-python",
   "name": "python",
   "nbconvert_exporter": "python",
   "pygments_lexer": "ipython3",
   "version": "3.13.5"
  }
 },
 "nbformat": 4,
 "nbformat_minor": 5
}
